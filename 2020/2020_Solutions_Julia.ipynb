{
 "cells": [
  {
   "cell_type": "markdown",
   "metadata": {},
   "source": [
    "# Day 2"
   ]
  },
  {
   "cell_type": "markdown",
   "metadata": {},
   "source": [
    "## Part 1"
   ]
  },
  {
   "cell_type": "code",
   "execution_count": 101,
   "metadata": {},
   "outputs": [
    {
     "name": "stdout",
     "output_type": "stream",
     "text": [
      "447"
     ]
    }
   ],
   "source": [
    "data = readlines(\"Inputs/day_2.txt\")\n",
    "\n",
    "clean = [split(line) for line in data]\n",
    "\n",
    "lower_upper = [split(line[1], \"-\") for line in clean]\n",
    "\n",
    "num_valid = 0\n",
    "\n",
    "for (interval, info) in zip(lower_upper, clean)\n",
    "    letter = info[2][1]\n",
    "    rgx = Regex(\"[^$letter]\")\n",
    "    cleaned = replace(info[3], rgx => \"\")\n",
    "    if (length(cleaned) >= parse(Int8, interval[1])) & (length(cleaned) <= parse(Int8, interval[2]))\n",
    "        num_valid+=1\n",
    "        end \n",
    "    end \n",
    "\n",
    "print(num_valid)"
   ]
  },
  {
   "cell_type": "markdown",
   "metadata": {},
   "source": [
    "## Part 2"
   ]
  },
  {
   "cell_type": "code",
   "execution_count": 108,
   "metadata": {},
   "outputs": [
    {
     "name": "stdout",
     "output_type": "stream",
     "text": [
      "249"
     ]
    }
   ],
   "source": [
    "num_valid = 0\n",
    "\n",
    "for (interval, info) in zip(lower_upper, clean)\n",
    "    letter = info[2][1]\n",
    "    rgx = Regex(\"[^$letter]\")\n",
    "    string = info[3][[parse(Int8,interval[1]),parse(Int8, interval[2])]]\n",
    "    cleaned = replace(string, rgx => \"\")\n",
    "    if length(cleaned) == 1\n",
    "        num_valid+=1\n",
    "        end \n",
    "    end \n",
    "\n",
    "print(num_valid)"
   ]
  }
 ],
 "metadata": {
  "kernelspec": {
   "display_name": "Julia 1.5.0",
   "language": "julia",
   "name": "julia-1.5"
  },
  "language_info": {
   "file_extension": ".jl",
   "mimetype": "application/julia",
   "name": "julia",
   "version": "1.5.0"
  }
 },
 "nbformat": 4,
 "nbformat_minor": 4
}
