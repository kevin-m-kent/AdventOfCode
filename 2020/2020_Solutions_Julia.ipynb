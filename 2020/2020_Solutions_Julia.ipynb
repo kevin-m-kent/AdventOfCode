{
 "cells": [
  {
   "cell_type": "markdown",
   "metadata": {},
   "source": [
    "# Day 1"
   ]
  },
  {
   "cell_type": "markdown",
   "metadata": {},
   "source": [
    "## Part 1"
   ]
  },
  {
   "cell_type": "code",
   "execution_count": 191,
   "metadata": {},
   "outputs": [
    {
     "data": {
      "text/plain": [
       "692916"
      ]
     },
     "execution_count": 191,
     "metadata": {},
     "output_type": "execute_result"
    }
   ],
   "source": [
    "data = readlines(\"Inputs/day_1.txt\")\n",
    "\n",
    "pairs = [2020 - parse(Int64, num) for num in data]\n",
    "\n",
    "match_idx = [parse(Int64, num) in pairs for num in data]\n",
    "\n",
    "parse(Int64, data[match_idx][1])*parse(Int64, data[match_idx][2])"
   ]
  },
  {
   "cell_type": "markdown",
   "metadata": {},
   "source": [
    "## Part 2"
   ]
  },
  {
   "cell_type": "code",
   "execution_count": 188,
   "metadata": {},
   "outputs": [
    {
     "data": {
      "text/plain": [
       "289270976"
      ]
     },
     "execution_count": 188,
     "metadata": {},
     "output_type": "execute_result"
    }
   ],
   "source": [
    "combos = Base.product(data, data)\n",
    "\n",
    "matches = [(parse(Int64, num1), parse(Int64, num2)) for (num1, num2) in combos if (parse(Int64, num1) + parse(Int64, num2)) in pairs]\n",
    "\n",
    "reduce(*,unique(collect(Iterators.flatten(matches))))"
   ]
  },
  {
   "cell_type": "markdown",
   "metadata": {},
   "source": [
    "# Day 2"
   ]
  },
  {
   "cell_type": "markdown",
   "metadata": {},
   "source": [
    "## Part 1"
   ]
  },
  {
   "cell_type": "code",
   "execution_count": 101,
   "metadata": {},
   "outputs": [
    {
     "name": "stdout",
     "output_type": "stream",
     "text": [
      "447"
     ]
    }
   ],
   "source": [
    "data = readlines(\"Inputs/day_2.txt\")\n",
    "\n",
    "clean = [split(line) for line in data]\n",
    "\n",
    "lower_upper = [split(line[1], \"-\") for line in clean]\n",
    "\n",
    "num_valid = 0\n",
    "\n",
    "for (interval, info) in zip(lower_upper, clean)\n",
    "    letter = info[2][1]\n",
    "    rgx = Regex(\"[^$letter]\")\n",
    "    cleaned = replace(info[3], rgx => \"\")\n",
    "    if (length(cleaned) >= parse(Int8, interval[1])) & (length(cleaned) <= parse(Int8, interval[2]))\n",
    "        num_valid+=1\n",
    "        end \n",
    "    end \n",
    "\n",
    "print(num_valid)"
   ]
  },
  {
   "cell_type": "markdown",
   "metadata": {},
   "source": [
    "## Part 2"
   ]
  },
  {
   "cell_type": "code",
   "execution_count": 108,
   "metadata": {},
   "outputs": [
    {
     "name": "stdout",
     "output_type": "stream",
     "text": [
      "249"
     ]
    }
   ],
   "source": [
    "num_valid = 0\n",
    "\n",
    "for (interval, info) in zip(lower_upper, clean)\n",
    "    letter = info[2][1]\n",
    "    rgx = Regex(\"[^$letter]\")\n",
    "    string = info[3][[parse(Int8,interval[1]),parse(Int8, interval[2])]]\n",
    "    cleaned = replace(string, rgx => \"\")\n",
    "    if length(cleaned) == 1\n",
    "        num_valid+=1\n",
    "        end \n",
    "    end \n",
    "\n",
    "print(num_valid)"
   ]
  },
  {
   "cell_type": "markdown",
   "metadata": {},
   "source": [
    "# Day 7"
   ]
  },
  {
   "cell_type": "code",
   "execution_count": 1,
   "metadata": {},
   "outputs": [],
   "source": [
    "using DataStructures"
   ]
  },
  {
   "cell_type": "code",
   "execution_count": 75,
   "metadata": {},
   "outputs": [
    {
     "ename": "LoadError",
     "evalue": "type RegexMatch has no field catures",
     "output_type": "error",
     "traceback": [
      "type RegexMatch has no field catures",
      "",
      "Stacktrace:",
      " [1] getproperty(::RegexMatch, ::Symbol) at ./Base.jl:33",
      " [2] (::var\"#138#140\")(::SubString{String}) at ./none:0",
      " [3] iterate at ./generator.jl:47 [inlined]",
      " [4] _all at ./reduce.jl:827 [inlined]",
      " [5] all at ./reduce.jl:823 [inlined]",
      " [6] Dict(::Base.Generator{Array{SubString{String},1},var\"#138#140\"}) at ./dict.jl:130",
      " [7] #137 at ./array.jl:0 [inlined]",
      " [8] iterate at ./generator.jl:47 [inlined]",
      " [9] collect(::Base.Generator{Array{Array{SubString{String},1},1},var\"#137#139\"}) at ./array.jl:686",
      " [10] top-level scope at In[75]:7",
      " [11] include_string(::Function, ::Module, ::String, ::String) at ./loading.jl:1091"
     ]
    }
   ],
   "source": [
    "data = readlines(\"Inputs/day_7.txt\")\n",
    "\n",
    "data_split = [split(line, \" bags contain \") for line in data]\n",
    "keys = [line[1] for line in data_split]\n",
    "values = [split(line[2], \",\") for line in data_split]"
   ]
  },
  {
   "cell_type": "code",
   "execution_count": 63,
   "metadata": {},
   "outputs": [
    {
     "data": {
      "text/plain": [
       "Dict{SubString{String},Int64} with 594 entries:\n",
       "  \"posh teal\"           => 0\n",
       "  \"clear teal\"          => 0\n",
       "  \"faded tomato\"        => 0\n",
       "  \"dull indigo\"         => 0\n",
       "  \"drab indigo\"         => 0\n",
       "  \"mirrored chartreuse\" => 0\n",
       "  \"shiny lime\"          => 0\n",
       "  \"dark brown\"          => 0\n",
       "  \"dotted fuchsia\"      => 0\n",
       "  \"shiny green\"         => 0\n",
       "  \"posh gray\"           => 0\n",
       "  \"mirrored violet\"     => 0\n",
       "  \"bright brown\"        => 0\n",
       "  \"drab cyan\"           => 0\n",
       "  \"posh brown\"          => 0\n",
       "  \"dim aqua\"            => 0\n",
       "  \"vibrant violet\"      => 0\n",
       "  \"light lime\"          => 0\n",
       "  \"shiny silver\"        => 0\n",
       "  \"vibrant silver\"      => 0\n",
       "  \"muted olive\"         => 0\n",
       "  \"dotted bronze\"       => 0\n",
       "  \"wavy aqua\"           => 0\n",
       "  \"vibrant bronze\"      => 0\n",
       "  \"wavy beige\"          => 0\n",
       "  ⋮                     => ⋮"
      ]
     },
     "execution_count": 63,
     "metadata": {},
     "output_type": "execute_result"
    }
   ],
   "source": [
    "keys = Dict(key => 0 for key in keys)"
   ]
  }
 ],
 "metadata": {
  "kernelspec": {
   "display_name": "Julia 1.5.0",
   "language": "julia",
   "name": "julia-1.5"
  },
  "language_info": {
   "file_extension": ".jl",
   "mimetype": "application/julia",
   "name": "julia",
   "version": "1.5.0"
  }
 },
 "nbformat": 4,
 "nbformat_minor": 4
}
