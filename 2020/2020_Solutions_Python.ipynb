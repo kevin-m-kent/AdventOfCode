{
 "cells": [
  {
   "cell_type": "markdown",
   "metadata": {},
   "source": [
    "# Day 2"
   ]
  },
  {
   "cell_type": "markdown",
   "metadata": {},
   "source": [
    "## Part 1"
   ]
  },
  {
   "cell_type": "code",
   "execution_count": 126,
   "metadata": {},
   "outputs": [
    {
     "name": "stdout",
     "output_type": "stream",
     "text": [
      "447\n"
     ]
    }
   ],
   "source": [
    "from collections import Counter\n",
    "\n",
    "num_valid = 0\n",
    "\n",
    "with open(r\"Inputs/day_2.txt\") as openfileobject:\n",
    "    for line in openfileobject:\n",
    "        clean = line.replace(\":\", \"\").strip(\"\\n\").split(\" \")\n",
    "        lower_upper = clean[0].split(\"-\")\n",
    "        c = Counter()\n",
    "        for letter in clean[2]:\n",
    "            c[letter] +=1\n",
    "        if (c[clean[1]] >= int(lower_upper[0])) & (c[clean[1]] <= int(lower_upper[1])):\n",
    "            num_valid+=1\n",
    "\n",
    "print(num_valid)"
   ]
  },
  {
   "cell_type": "markdown",
   "metadata": {},
   "source": [
    "## Part 2"
   ]
  },
  {
   "cell_type": "code",
   "execution_count": 124,
   "metadata": {},
   "outputs": [
    {
     "name": "stdout",
     "output_type": "stream",
     "text": [
      "249\n"
     ]
    }
   ],
   "source": [
    "num_valid = 0\n",
    "\n",
    "with open(r\"Inputs/day_2.txt\") as openfileobject:\n",
    "    for line in openfileobject:\n",
    "        clean = line.replace(\":\", \"\").strip(\"\\n\").split(\" \")\n",
    "        lower_upper = clean[0].split(\"-\")\n",
    "        string = clean[2][int(lower_upper[0])-1] + clean[2][int(lower_upper[1])-1]\n",
    "        same = [clean[1] == letter for letter in string]\n",
    "        if sum(same) == 1:\n",
    "            num_valid+=1\n",
    "            \n",
    "print(num_valid)"
   ]
  },
  {
   "cell_type": "markdown",
   "metadata": {},
   "source": [
    "# Day 6"
   ]
  },
  {
   "cell_type": "code",
   "execution_count": 77,
   "metadata": {},
   "outputs": [
    {
     "name": "stdout",
     "output_type": "stream",
     "text": [
      "Part 1: 6911\n",
      "Part 2: 3473\n"
     ]
    }
   ],
   "source": [
    "from collections import Counter\n",
    "\n",
    "unique_resp = 0 \n",
    "c = Counter()\n",
    "num_people = -1\n",
    "all_resp = 0\n",
    "\n",
    "with open(r\"Inputs/day_6.txt\") as openfileobject:\n",
    "    for line in openfileobject:\n",
    "        if line == \"\\n\":\n",
    "            unique_resp = unique_resp + len(c.keys())\n",
    "            all_resp = all_resp + sum([val == num_people for val in c.values()])\n",
    "            num_people = -1\n",
    "            c = Counter()\n",
    "        line = line.replace('\\n','')\n",
    "        for char in line:\n",
    "            c[char]+=1\n",
    "        num_people+=1\n",
    "        \n",
    "# Part 1        \n",
    "print(\"Part 1:\", unique_resp + len(c.keys())) #to get the last one\n",
    "# Part 2\n",
    "print(\"Part 2:\", all_resp + sum([val == num_people for val in c.values()])) #to get the last one"
   ]
  }
 ],
 "metadata": {
  "kernelspec": {
   "display_name": "Python 3",
   "language": "python",
   "name": "python3"
  },
  "language_info": {
   "codemirror_mode": {
    "name": "ipython",
    "version": 3
   },
   "file_extension": ".py",
   "mimetype": "text/x-python",
   "name": "python",
   "nbconvert_exporter": "python",
   "pygments_lexer": "ipython3",
   "version": "3.7.6"
  }
 },
 "nbformat": 4,
 "nbformat_minor": 4
}
