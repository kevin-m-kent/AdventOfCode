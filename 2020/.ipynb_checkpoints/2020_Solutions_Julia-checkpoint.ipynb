{
 "cells": [
  {
   "cell_type": "markdown",
   "metadata": {},
   "source": [
    "# Day 1"
   ]
  },
  {
   "cell_type": "markdown",
   "metadata": {},
   "source": [
    "## Part 1"
   ]
  },
  {
   "cell_type": "code",
   "execution_count": 191,
   "metadata": {},
   "outputs": [
    {
     "data": {
      "text/plain": [
       "692916"
      ]
     },
     "execution_count": 191,
     "metadata": {},
     "output_type": "execute_result"
    }
   ],
   "source": [
    "data = readlines(\"Inputs/day_1.txt\")\n",
    "\n",
    "pairs = [2020 - parse(Int64, num) for num in data]\n",
    "\n",
    "match_idx = [parse(Int64, num) in pairs for num in data]\n",
    "\n",
    "parse(Int64, data[match_idx][1])*parse(Int64, data[match_idx][2])"
   ]
  },
  {
   "cell_type": "markdown",
   "metadata": {},
   "source": [
    "## Part 2"
   ]
  },
  {
   "cell_type": "code",
   "execution_count": 188,
   "metadata": {},
   "outputs": [
    {
     "data": {
      "text/plain": [
       "289270976"
      ]
     },
     "execution_count": 188,
     "metadata": {},
     "output_type": "execute_result"
    }
   ],
   "source": [
    "combos = Base.product(data, data)\n",
    "\n",
    "matches = [(parse(Int64, num1), parse(Int64, num2)) for (num1, num2) in combos if (parse(Int64, num1) + parse(Int64, num2)) in pairs]\n",
    "\n",
    "reduce(*,unique(collect(Iterators.flatten(matches))))"
   ]
  },
  {
   "cell_type": "markdown",
   "metadata": {},
   "source": [
    "# Day 2"
   ]
  },
  {
   "cell_type": "markdown",
   "metadata": {},
   "source": [
    "## Part 1"
   ]
  },
  {
   "cell_type": "code",
   "execution_count": 101,
   "metadata": {},
   "outputs": [
    {
     "name": "stdout",
     "output_type": "stream",
     "text": [
      "447"
     ]
    }
   ],
   "source": [
    "data = readlines(\"Inputs/day_2.txt\")\n",
    "\n",
    "clean = [split(line) for line in data]\n",
    "\n",
    "lower_upper = [split(line[1], \"-\") for line in clean]\n",
    "\n",
    "num_valid = 0\n",
    "\n",
    "for (interval, info) in zip(lower_upper, clean)\n",
    "    letter = info[2][1]\n",
    "    rgx = Regex(\"[^$letter]\")\n",
    "    cleaned = replace(info[3], rgx => \"\")\n",
    "    if (length(cleaned) >= parse(Int8, interval[1])) & (length(cleaned) <= parse(Int8, interval[2]))\n",
    "        num_valid+=1\n",
    "        end \n",
    "    end \n",
    "\n",
    "print(num_valid)"
   ]
  },
  {
   "cell_type": "markdown",
   "metadata": {},
   "source": [
    "## Part 2"
   ]
  },
  {
   "cell_type": "code",
   "execution_count": 108,
   "metadata": {},
   "outputs": [
    {
     "name": "stdout",
     "output_type": "stream",
     "text": [
      "249"
     ]
    }
   ],
   "source": [
    "num_valid = 0\n",
    "\n",
    "for (interval, info) in zip(lower_upper, clean)\n",
    "    letter = info[2][1]\n",
    "    rgx = Regex(\"[^$letter]\")\n",
    "    string = info[3][[parse(Int8,interval[1]),parse(Int8, interval[2])]]\n",
    "    cleaned = replace(string, rgx => \"\")\n",
    "    if length(cleaned) == 1\n",
    "        num_valid+=1\n",
    "        end \n",
    "    end \n",
    "\n",
    "print(num_valid)"
   ]
  },
  {
   "cell_type": "markdown",
   "metadata": {},
   "source": [
    "# Day 7"
   ]
  },
  {
   "cell_type": "code",
   "execution_count": 1,
   "metadata": {},
   "outputs": [],
   "source": [
    "using DataStructures"
   ]
  },
  {
   "cell_type": "code",
   "execution_count": 58,
   "metadata": {},
   "outputs": [
    {
     "data": {
      "text/plain": [
       "594-element Array{SubString{String},1}:\n",
       " \"shiny lime\"\n",
       " \"shiny violet\"\n",
       " \"muted maroon\"\n",
       " \"pale magenta\"\n",
       " \"vibrant crimson\"\n",
       " \"mirrored red\"\n",
       " \"muted red\"\n",
       " \"faded chartreuse\"\n",
       " \"wavy red\"\n",
       " \"pale purple\"\n",
       " \"dull blue\"\n",
       " \"mirrored tomato\"\n",
       " \"clear lavender\"\n",
       " ⋮\n",
       " \"striped violet\"\n",
       " \"dotted brown\"\n",
       " \"dotted red\"\n",
       " \"wavy white\"\n",
       " \"muted teal\"\n",
       " \"bright lavender\"\n",
       " \"clear coral\"\n",
       " \"clear gray\"\n",
       " \"drab tan\"\n",
       " \"muted gray\"\n",
       " \"striped black\"\n",
       " \"clear violet\""
      ]
     },
     "execution_count": 58,
     "metadata": {},
     "output_type": "execute_result"
    }
   ],
   "source": [
    "data = readlines(\"Inputs/day_7.txt\")\n",
    "\n",
    "data_split = [split(line, \" bags contain \") for line in data]\n",
    "keys = [line[1] for line in data_split]\n",
    "\n"
   ]
  },
  {
   "cell_type": "code",
   "execution_count": 57,
   "metadata": {},
   "outputs": [
    {
     "data": {
      "text/plain": [
       "594-element Array{Array{SubString{String},1},1}:\n",
       " [\"shiny lime\", \"3 muted magenta bags, 3 clear cyan bags.\"]\n",
       " [\"shiny violet\", \"1 faded brown bag, 1 dull red bag.\"]\n",
       " [\"muted maroon\", \"4 pale lime bags.\"]\n",
       " [\"pale magenta\", \"2 striped coral bags, 1 shiny orange bag, 3 vibrant white bags, 4 posh cyan bags.\"]\n",
       " [\"vibrant crimson\", \"4 bright white bags, 3 dark brown bags, 4 plaid crimson bags.\"]\n",
       " [\"mirrored red\", \"2 bright orange bags, 3 dull brown bags, 4 dotted brown bags.\"]\n",
       " [\"muted red\", \"2 bright green bags.\"]\n",
       " [\"faded chartreuse\", \"5 bright cyan bags.\"]\n",
       " [\"wavy red\", \"4 drab white bags, 1 plaid silver bag.\"]\n",
       " [\"pale purple\", \"4 muted yellow bags, 2 mirrored chartreuse bags, 5 mirrored purple bags, 2 mirrored red bags.\"]\n",
       " [\"dull blue\", \"4 dark brown bags, 2 faded blue bags, 4 dim aqua bags.\"]\n",
       " [\"mirrored tomato\", \"1 posh turquoise bag, 2 bright aqua bags.\"]\n",
       " [\"clear lavender\", \"3 plaid bronze bags, 4 faded plum bags, 2 muted coral bags, 1 posh chartreuse bag.\"]\n",
       " ⋮\n",
       " [\"striped violet\", \"5 bright white bags, 5 dull blue bags, 3 light tomato bags, 3 mirrored green bags.\"]\n",
       " [\"dotted brown\", \"5 posh tomato bags.\"]\n",
       " [\"dotted red\", \"4 dim tomato bags, 1 drab beige bag.\"]\n",
       " [\"wavy white\", \"5 plaid crimson bags, 2 light magenta bags.\"]\n",
       " [\"muted teal\", \"5 dim crimson bags, 1 dim cyan bag.\"]\n",
       " [\"bright lavender\", \"2 dark lavender bags, 2 mirrored cyan bags, 1 dim yellow bag, 5 vibrant teal bags.\"]\n",
       " [\"clear coral\", \"2 drab beige bags, 1 drab yellow bag, 1 dotted tan bag.\"]\n",
       " [\"clear gray\", \"3 plaid lime bags, 1 dull beige bag, 5 light beige bags.\"]\n",
       " [\"drab tan\", \"3 dull salmon bags, 3 wavy tomato bags, 2 muted orange bags, 5 clear cyan bags.\"]\n",
       " [\"muted gray\", \"5 dull cyan bags, 4 clear olive bags.\"]\n",
       " [\"striped black\", \"4 dull plum bags, 3 faded gray bags, 3 faded cyan bags.\"]\n",
       " [\"clear violet\", \"4 posh bronze bags, 1 pale gold bag.\"]"
      ]
     },
     "execution_count": 57,
     "metadata": {},
     "output_type": "execute_result"
    }
   ],
   "source": [
    "data_split"
   ]
  }
 ],
 "metadata": {
  "kernelspec": {
   "display_name": "Julia 1.5.0",
   "language": "julia",
   "name": "julia-1.5"
  },
  "language_info": {
   "file_extension": ".jl",
   "mimetype": "application/julia",
   "name": "julia",
   "version": "1.5.0"
  }
 },
 "nbformat": 4,
 "nbformat_minor": 4
}
